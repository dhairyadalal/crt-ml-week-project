{
 "metadata": {
  "language_info": {
   "codemirror_mode": {
    "name": "ipython",
    "version": 3
   },
   "file_extension": ".py",
   "mimetype": "text/x-python",
   "name": "python",
   "nbconvert_exporter": "python",
   "pygments_lexer": "ipython3",
   "version": "3.8.5-final"
  },
  "orig_nbformat": 2,
  "kernelspec": {
   "name": "python3",
   "display_name": "Python 3.8.5 64-bit ('finance': conda)",
   "metadata": {
    "interpreter": {
     "hash": "7d3a7cfa03608b89332b2cbee06a9ef917f034ae1e20c35e22483a2abead3dd5"
    }
   }
  }
 },
 "nbformat": 4,
 "nbformat_minor": 2,
 "cells": [
  {
   "source": [
    "# Exploring Evolutionary Algorithms w/ DEAP"
   ],
   "cell_type": "markdown",
   "metadata": {}
  },
  {
   "cell_type": "code",
   "execution_count": 49,
   "metadata": {},
   "outputs": [],
   "source": [
    "# Utilities\n",
    "from datetime import datetime\n",
    "import pandas_datareader as pdr\n",
    "import pandas as pd\n",
    "import numpy as np\n",
    "from typing import List, Tuple\n",
    "\n",
    "symbols = pd.read_csv(\"data/sp500_symbols.csv\")\n",
    "\n",
    "symbols_df = pd.read_csv(\"data/sp500_symbols.csv\")\n",
    "symbols = symbols_df[\"Symbol\"].tolist()\n",
    "\n",
    "def convert_to_datetime(year: int, month: int, day: int) -> datetime:\n",
    "    return datetime(year=year, month=month, day=day)\n",
    "\n",
    "def get_ticker_data(ticker: str, start: datetime, end: datetime) -> pd.DataFrame:\n",
    "    return pdr.get_data_yahoo(ticker, start=start, end=end)\n",
    "\n",
    "def calculate_cagr(df: pd.DataFrame) -> float:\n",
    "    days = (df.index[-1] - df.index[0]).days\n",
    "    return ((((df['Adj Close'][-1]) / df['Adj Close'][1])) ** (365.0/days)) - 1\n",
    "\n",
    "def calculate_portfolio_returns(weights: List[float], stock_symbols: List[str], start: datetime, end:datetime):\n",
    "    dfs = [get_ticker_data(symbol, start, end) for symbol in stock_symbols]\n",
    "    cagrs = [calculate_cagr(df) for df in dfs]    \n",
    "    return np.dot(weights, cagrs)\n",
    "\n",
    "def generate_random_dist(bins: int):\n",
    "    return [round(val, 2) for val in np.random.dirichlet(np.ones(bins),size=1)[0].tolist()]\n",
    "\n",
    "def generate_random_stocks(num_stocks: int) -> List[str]:\n",
    "    return np.random.choice(symbols[\"Symbol\"], size = num_stocks)\n",
    "\n",
    "def generate_random_portfolio(num_stocks: int) -> Tuple[str, float]:\n",
    "    random_stocks = generate_random_stocks(num_stocks)\n",
    "    dist = generate_random_dist(num_stocks)\n",
    "    return list(zip(random_stocks, dist))\n",
    "\n"
   ]
  },
  {
   "cell_type": "code",
   "execution_count": 60,
   "metadata": {},
   "outputs": [],
   "source": [
    "class Stocks():\n",
    "\n",
    "    def __init__(self, eval_start: datetime, eval_end: datetime, num_stocks: int):\n",
    "\n",
    "        # Load stocks and grab n for the simulation\n",
    "        symbols = pd.read_csv(\"data/sp500_symbols.csv\")[\"Symbol\"].tolist()\n",
    "        stock_sample = np.random.choice(symbols, num_stocks).tolist()\n",
    "\n",
    "        # convert stocks to ids\n",
    "        stock2id = \n",
    "        "
   ]
  },
  {
   "cell_type": "code",
   "execution_count": 66,
   "metadata": {},
   "outputs": [
    {
     "output_type": "execute_result",
     "data": {
      "text/plain": [
       "['ALXN', 'NI', 'ICE', 'FLIR', 'CB', 'CMS', 'RL', 'RMD', 'BR', 'MET']"
      ]
     },
     "metadata": {},
     "execution_count": 66
    }
   ],
   "source": [
    "symbols = pd.read_csv(\"data/sp500_symbols.csv\")[\"Symbol\"].tolist()\n"
   ]
  },
  {
   "cell_type": "code",
   "execution_count": null,
   "metadata": {},
   "outputs": [],
   "source": []
  }
 ]
}